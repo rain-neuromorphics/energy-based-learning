{
  "nbformat": 4,
  "nbformat_minor": 0,
  "metadata": {
    "colab": {
      "provenance": [],
      "gpuType": "T4",
      "collapsed_sections": [
        "SlvpeHIqbfM_"
      ],
      "authorship_tag": "ABX9TyPx5zP2ua8JlrguVWK/PjHd",
      "include_colab_link": true
    },
    "kernelspec": {
      "name": "python3",
      "display_name": "Python 3"
    },
    "language_info": {
      "name": "python"
    },
    "accelerator": "GPU"
  },
  "cells": [
    {
      "cell_type": "markdown",
      "metadata": {
        "id": "view-in-github",
        "colab_type": "text"
      },
      "source": [
        "<a href=\"https://colab.research.google.com/github/HarrisonSantiago/energy-based-learning/blob/main/Copy_of_Testing_EBL.ipynb\" target=\"_parent\"><img src=\"https://colab.research.google.com/assets/colab-badge.svg\" alt=\"Open In Colab\"/></a>"
      ]
    },
    {
      "cell_type": "markdown",
      "source": [
        "# Energy Based Learning Demo\n",
        "\n",
        "Energy Based Learning is an application of statistical mechanics for learning from data. Available compute is a barrier for a sizable portion of the population, this notebook demonstrates how to reproduce the results from the following papers in a Google Colab environment.\n",
        "\n",
        "- [Energy-based learning algorithms for analog computing: a comparative study](https://proceedings.neurips.cc/paper_files/paper/2023/hash/a52b0d191b619477cc798d544f4f0e4b-Abstract-Conference.html)\n",
        "\n",
        "- [A fast algorithm to simulate nonlinear resistive networks](https://arxiv.org/abs/2402.11674)\n",
        "\n",
        "Additionally, it shows how to use this repo as a starting point for developing your own model. We assume some familiarity with energy based methods, but none with this repository.\n",
        "\n",
        "To start, let's clone the repo and export our path. Google Colab handles environments a little different than you would locally, so we change how we export the path compared to the pre-reqs in the repo."
      ],
      "metadata": {
        "id": "sj1b6XNgm-2f"
      }
    },
    {
      "cell_type": "code",
      "execution_count": 1,
      "metadata": {
        "colab": {
          "base_uri": "https://localhost:8080/"
        },
        "outputId": "b529d5cc-98b4-439e-bfb5-819b085fea08",
        "id": "7nK8JS5EzCAB"
      },
      "outputs": [
        {
          "output_type": "stream",
          "name": "stdout",
          "text": [
            "Cloning into 'energy-based-learning'...\n",
            "remote: Enumerating objects: 112, done.\u001b[K\n",
            "remote: Counting objects: 100% (112/112), done.\u001b[K\n",
            "remote: Compressing objects: 100% (78/78), done.\u001b[K\n",
            "remote: Total 112 (delta 44), reused 94 (delta 32), pack-reused 0 (from 0)\u001b[K\n",
            "Receiving objects: 100% (112/112), 73.50 KiB | 6.68 MiB/s, done.\n",
            "Resolving deltas: 100% (44/44), done.\n",
            "/content/energy-based-learning\n"
          ]
        }
      ],
      "source": [
        "!git clone https://github.com/rain-neuromorphics/energy-based-learning\n",
        "%cd /content/energy-based-learning\n",
        "import os\n",
        "os.environ['PYTHONPATH'] = f\"/content/energy-based-learning:{os.environ.get('PYTHONPATH', '')}\""
      ]
    },
    {
      "cell_type": "markdown",
      "source": [
        "Make sure that you check for GPU/TPU availability and enable it. For some of the cells it is the difference between 3-5 minutes, or 90+."
      ],
      "metadata": {
        "id": "OFzEinK5TL2_"
      }
    },
    {
      "cell_type": "code",
      "source": [
        "import sys\n",
        "import torch\n",
        "if 'google.colab' in sys.modules and not torch.cuda.is_available():\n",
        "    print(\"Warning: Using Colab but not in a GPU session\")"
      ],
      "metadata": {
        "id": "EcXkUXexE9sF"
      },
      "execution_count": 2,
      "outputs": []
    },
    {
      "cell_type": "markdown",
      "source": [
        "# Click Below to load some functions used for visualizations in this notebook"
      ],
      "metadata": {
        "id": "SlvpeHIqbfM_"
      }
    },
    {
      "cell_type": "code",
      "source": [
        "import matplotlib.pyplot as plt\n",
        "import torch\n",
        "from torchvision.utils import make_grid\n",
        "\n",
        "def show_dataset_examples(loader, num_examples=4):\n",
        "    # Get a batch from the loader\n",
        "    dataiter = iter(loader)\n",
        "    images, labels = next(dataiter)\n",
        "\n",
        "    # Create a figure to display the images\n",
        "    fig, axes = plt.subplots(1, num_examples, figsize=(5, 2))\n",
        "    fig.suptitle(\"Dataset Examples\")\n",
        "\n",
        "    for i in range(num_examples):\n",
        "        # Get the image and label\n",
        "        img = images[i]\n",
        "        label = labels[i].item()\n",
        "\n",
        "        # Convert image from tensor to numpy array\n",
        "        img = img.numpy().transpose((1, 2, 0))\n",
        "\n",
        "        # Display the image\n",
        "        axes[i].imshow(img, cmap = 'gray')\n",
        "        axes[i].set_title(f\"Label: {label}\")\n",
        "        axes[i].axis('off')\n",
        "\n",
        "    plt.tight_layout()\n",
        "    plt.show()\n",
        "\n",
        "\n",
        "def visualize_and_infer(_network, _energy_minimizer, _loader, num_samples=4):\n",
        "\n",
        "    # Get a batch from the loader, test loader also provides index\n",
        "    dataiter = iter(_loader)\n",
        "    images, labels, idx = next(dataiter)\n",
        "\n",
        "    # Select a subset of images\n",
        "    images = images[:num_samples]\n",
        "    labels = labels[:num_samples]\n",
        "\n",
        "    _network.set_input(images, reset = True)\n",
        "    _energy_minimizer.compute_equilibrium()\n",
        "\n",
        "    # Get the output\n",
        "    output = network._function.layers()[-1].state\n",
        "\n",
        "    # Get predictions\n",
        "    _, predicted = torch.max(output, 1)\n",
        "\n",
        "    # Create a grid of images\n",
        "    img_grid = make_grid(images, nrow=num_samples, normalize=True, padding=2)\n",
        "\n",
        "    # Convert to numpy and transpose\n",
        "    img_grid = img_grid.cpu().numpy().transpose((1, 2, 0))\n",
        "\n",
        "    # Create a figure to display the images\n",
        "    fig, ax = plt.subplots(figsize=(5, 3))\n",
        "    ax.imshow(img_grid, cmap=\"gray\")\n",
        "    ax.axis('off')\n",
        "\n",
        "    # Add labels and predictions as text\n",
        "    for i in range(num_samples):\n",
        "        true_label = labels[i].item()\n",
        "        pred_label = predicted[i].item()\n",
        "        ax.text(i * (images.size(3) + 2) + images.size(3) / 2,\n",
        "                images.size(2) + 10,\n",
        "                f'True: {true_label}\\nPred: {pred_label}',\n",
        "                ha='center', va='top')\n",
        "\n",
        "    plt.title(\"Dataset Examples with True Labels and Predictions\")\n",
        "    plt.tight_layout()\n",
        "    plt.show()"
      ],
      "metadata": {
        "colab": {
          "base_uri": "https://localhost:8080/",
          "height": 17
        },
        "id": "2J0FH2sCblKa",
        "outputId": "49cbbfef-b5bd-4f1a-bbf4-7348fd904ad6"
      },
      "execution_count": 3,
      "outputs": [
        {
          "output_type": "display_data",
          "data": {
            "text/plain": [
              "<IPython.core.display.HTML object>"
            ],
            "text/html": [
              "\n",
              "<style>\n",
              "  pre {\n",
              "      white-space: normal;\n",
              "  }\n",
              "</style>\n"
            ]
          },
          "metadata": {}
        }
      ]
    },
    {
      "cell_type": "markdown",
      "source": [
        "#How to run the paper examples\n",
        "\n",
        "This section is just to show how you can run the python scripts for generating the paper results, and how you can interact with the resulting artifacts. All in all it's pretty straightforward, just note that the artifacts will appear in the paper's directory."
      ],
      "metadata": {
        "id": "6WCmLKjwTQbF"
      }
    },
    {
      "cell_type": "code",
      "source": [
        "!python papers/fast-drn/drn.py --model='drn-xs' --algorithm='EP'"
      ],
      "metadata": {
        "id": "rdky5GzELZKm"
      },
      "execution_count": null,
      "outputs": []
    },
    {
      "cell_type": "code",
      "source": [
        "%load_ext tensorboard"
      ],
      "metadata": {
        "id": "EgAm_W4Hg-gj"
      },
      "execution_count": 5,
      "outputs": []
    },
    {
      "cell_type": "code",
      "source": [
        "# When loading this in colab I need to zoom out to see the visualization\n",
        "# It takes ~30 seconds for it to load after the cell stops running\n",
        "%tensorboard --logdir '/content/energy-based-learning/papers/fast-drn/drn-xs/EP'"
      ],
      "metadata": {
        "id": "9MaSrjtwhBEA"
      },
      "execution_count": null,
      "outputs": []
    },
    {
      "cell_type": "markdown",
      "source": [
        "Here is how you can access all of the statistics saved during training"
      ],
      "metadata": {
        "id": "K8I1pyJ2-fZh"
      }
    },
    {
      "cell_type": "code",
      "source": [
        "import pickle\n",
        "from IPython.display import HTML\n",
        "\n",
        "#for formatting\n",
        "display(HTML('''\n",
        "<style>\n",
        "  pre {\n",
        "      white-space: normal;\n",
        "  }\n",
        "</style>\n",
        "'''))\n",
        "\n",
        "time_series = pickle.load(open('/content/energy-based-learning/papers/fast-drn/drn-xs/EP/time_series.pkl', 'rb'))\n",
        "\n",
        "print(time_series.keys())\n"
      ],
      "metadata": {
        "id": "466TbyM_jO5s"
      },
      "execution_count": null,
      "outputs": []
    },
    {
      "cell_type": "markdown",
      "source": [
        "---\n",
        "\n",
        "# How to create your own EQ-Prop model.\n",
        "\n",
        "This section will walk you through how to uitilize the classes in this repo when creating an EBL model. The goal is to show how different parts of theory match to certain steps and classes.\n",
        "\n",
        "Any hyperparamters in here were arbitrarilly chosen. I found some that worked, but didn't do any optimization beyond \"does it get decent results\"\n",
        "***"
      ],
      "metadata": {
        "id": "ZmOksh_LcxpN"
      }
    },
    {
      "cell_type": "markdown",
      "source": [
        "The first step in any machine learning problem is to figure out what data you have, and what task you're trying to accomplish. For this example we'll be using the MNIST dataset, and trying to classify the digits. \"Datasets\" provides a way to load a variety of commonly used datasets into pytorch dataloaders (with a note that the test_loader is indexed)."
      ],
      "metadata": {
        "id": "9eVTStYffAsy"
      }
    },
    {
      "cell_type": "code",
      "source": [
        "from datasets import load_dataloaders\n",
        "\n",
        "dataset = 'MNIST'\n",
        "batch_size = 512\n",
        "training_loader, test_loader = load_dataloaders(dataset, batch_size, augment_32x32=False, normalize=False)\n",
        "\n",
        "show_dataset_examples(training_loader)"
      ],
      "metadata": {
        "id": "9jLCiE1Oc0EW",
        "colab": {
          "base_uri": "https://localhost:8080/",
          "height": 202
        },
        "outputId": "baff34d2-4997-4b7a-c597-b2b7752d5356"
      },
      "execution_count": 9,
      "outputs": [
        {
          "output_type": "display_data",
          "data": {
            "text/plain": [
              "<Figure size 500x200 with 4 Axes>"
            ],
            "image/png": "[encoded data removed]"
          },
          "metadata": {}
        }
      ]
    },
    {
      "cell_type": "markdown",
      "source": [
        "Now let's start to get into the real work\n",
        "\n",
        "**The Theory**\n",
        "\n",
        "In Energy Based Learning (EBL), a model is composed of an input variable ($x$), a parameter variable ($\\theta$), a hidden variable ($h$), and an output variable ($o$). The energy function, $E$, assigns to each tuple ($\\theta$, $x$, $h$, $o$) a real number $E(\\theta, x, h, o)$. The goal of training an EBL model is to adjust $\\theta$ so that for any input $x$, the output $o(\\theta, x)$ coincides with a desired output $y$.\n",
        "\n",
        "The energy function $E(\\theta, x, h, o)$ defines how these components interact. During inference, for a given input $x$ and current parameters $\\theta$, the network will settle into a state that minimizes this energy, determining the values of $h$ and $o$. The learning process involves adjusting $\\theta$ to shape the energy landscape so that desired input-output mappings correspond to low-energy states of the system.\n",
        "\n",
        "If we let $\\theta = (\\theta_1, ..., \\theta_N)$, for each $\\theta_k$ we can denote $\\{x, h\\}_k$ as the information which is locally available to $\\theta_k$. From here, we can define an energy function to be <i>sum-seperable</i> if it is of the form\n",
        "\n",
        "$$\n",
        "E = E_0 + \\sum_{k} E_k(\\theta_k, \\{x,h\\}k)\n",
        "$$\n",
        "\n",
        "where $E_0$ is a term that is independent of the parameters, and $E_k$ is a scalar function for each $k$.\n",
        "\n",
        "**The Application**\n",
        "\n",
        "For this example, we're using a 28x28 Deep Convolutional Hopfield network, similar to the one defined in Equation 18 in [Energy-based learning algorithms for analog computing: a comparative study](https://proceedings.neurips.cc/paper_files/paper/2023/hash/a52b0d191b619477cc798d544f4f0e4b-Abstract-Conference.html). If you look inside model.hopfield.network, you'll see that the model structure is as follows:\n",
        "\n",
        "- Input layer ($x$): shape (num_input_filters, 28, 28)\n",
        "- First hidden layer ($h_1$): shape (num_hidden_1, 12, 12)\n",
        "- Second hidden layer ($h_2$): shape (num_hidden_2, 4, 4)\n",
        "- Output layer ($o$): shape (num_output_units,)\n",
        "\n",
        "In this context:\n",
        "\n",
        "- $x$ corresponds to the input layer\n",
        "- $\\theta$ represents the energy function's parameters, including convolutional filter weights and biases for each layer\n",
        "-$h$ encompasses both hidden layers ($h = {h_1, h_2}$), representing the internal state of the network\n",
        "-$o$ corresponds to the output layer\n",
        "\n",
        "When creating an energy function, the general steps are as follows:\n",
        "- Create Layers with weights and biases (model.variable.layer or your own)\n",
        "- Create interactions between layers\n",
        "- Use the above to create multiple SumSeperableFunction Classes (model.function.interactions)\n",
        "\n",
        "Then you can take this energy function, and use it to make a Network. **The Network class is one of convenience and not theoretical importance. For any energy function, is provides a unified way to set the input and get a list of the free layers**"
      ],
      "metadata": {
        "id": "GfsUbhbuqfX5"
      }
    },
    {
      "cell_type": "code",
      "source": [
        "from model.hopfield.network import ConvHopfieldEnergy28\n",
        "from model.function.network import Network\n",
        "from model.function.cost import SquaredError\n",
        "\n",
        "# Build the network: a convolutional Hopfield network (DCHN) with 28x28-pixel input images\n",
        "energy_fn = ConvHopfieldEnergy28(num_outputs = 10)\n",
        "\n",
        "# Set the device on which we run and train the network\n",
        "device = \"cuda\" if torch.cuda.is_available() else \"cpu\"\n",
        "\n",
        "energy_fn.set_device(device)\n",
        "network = Network(energy_fn)"
      ],
      "metadata": {
        "id": "hM8JVfUMeyYO"
      },
      "execution_count": 10,
      "outputs": []
    },
    {
      "cell_type": "markdown",
      "source": [
        "Since we will be using equilibrium propagation, we use the squared error cost function. Like any cost function it needs our output, $o(x, \\theta, h)$, so we enter the output layer upon initialization (alternatively, you could do network._function.layers()[-1])."
      ],
      "metadata": {
        "id": "v9l-DGU6K8js"
      }
    },
    {
      "cell_type": "code",
      "source": [
        "output_layer = energy_fn.layers()[-1]\n",
        "cost_fn = SquaredError(output_layer)"
      ],
      "metadata": {
        "id": "2wkLHioUK9Xr"
      },
      "execution_count": 11,
      "outputs": []
    },
    {
      "cell_type": "markdown",
      "source": [
        "**The theory**\n",
        "\n",
        "Let's remember that Energy Based Learning comes in two phases:\n",
        "\n",
        " - In the Relaxed Phase (or \"free phase\" or \"clamped phase\"), the system is allowed to settle into a stable state based on the input data alone. This equilibrium state represents the network's prediction or output for the given input\n",
        "\n",
        "- In the Perturbed Phase, the system is slightly nudged towards the desired output. This is accomplished by adding a small perturbation to the energy function, based on the difference between the current output and the target output. Following this, the system is allowed to settle into a new equilibrium state under this perturbed energy landscape.\n",
        "\n",
        "**The application**\n",
        "\n",
        "For the Relaxed Phase we use our previously defined Energy Function, as it is purely defined by the input and the internal states. Next, we have to figure out how to create our \"nudged\" energy function. The AugmentedFunction class is wrapper for doing this using your Relaxed Phase function and your cost function.\n",
        "\n"
      ],
      "metadata": {
        "id": "dBiNapzKzE92"
      }
    },
    {
      "cell_type": "code",
      "source": [
        "from training.sgd import AugmentedFunction\n",
        "\n",
        "#Define the energy function for the perturbed phase\n",
        "augmented_fn = AugmentedFunction(energy_fn, cost_fn)"
      ],
      "metadata": {
        "id": "8CfNlGOzq56E"
      },
      "execution_count": 12,
      "outputs": []
    },
    {
      "cell_type": "markdown",
      "source": [
        "\n",
        "Both the energy function and the augmented function are instances of SumSeperableFunctions. The core idea is that we use a gradient-based approach to minimize these functions with respect to each layer of the network.\n",
        "\n",
        "Under-the-hood, you need to create updaters for every layer. Then the minimizer class found in minimizer.minimizer uses there to compute equilibrium trajectories.  \n"
      ],
      "metadata": {
        "id": "p_MlkZnCbpUc"
      }
    },
    {
      "cell_type": "code",
      "source": [
        "from model.hopfield.minimizer import FixedPointMinimizer\n",
        "\n",
        "#Define Model Params\n",
        "num_iterations_inference = 30\n",
        "num_iterations_training = 5\n",
        "\n",
        "# Define the energy minimizer used in the perturbed phase\n",
        "free_layers = network.free_layers()\n",
        "energy_minimizer_perturbed = FixedPointMinimizer(augmented_fn, free_layers)\n",
        "energy_minimizer_perturbed.num_iterations = num_iterations_training\n",
        "\n",
        "#Define the energy minimizer used at inference\n",
        "energy_minimizer_inference = FixedPointMinimizer(energy_fn, free_layers)\n",
        "energy_minimizer_inference.num_iterations = num_iterations_inference"
      ],
      "metadata": {
        "id": "2uzSvRi6bwXu"
      },
      "execution_count": 13,
      "outputs": []
    },
    {
      "cell_type": "markdown",
      "source": [
        "Now in order to minimize the augmented function, we need a way to solve\n",
        "\n",
        "$$ \\text{minimize} \\quad C(h(\\theta)) \\\\\n",
        "\\text{subject to} \\quad h(\\theta) = \\arg\\min_h E(\\theta, h) $$\n",
        "\n",
        "where $C(\\cdot)$ is a cost function. To do this, we leverage the GradientEstimator Class (training.sgd), which let us estimate the gradient of $C(h(\\theta))$ with respect to $\\theta$.\n",
        "\n",
        "In general, we need to expose a few key things to these Gradient Estimator Classes:\n",
        "- The parameters whose gradients we want to estimate\n",
        "- The layers that minimize the augmented energy function\n",
        "- The algorithm we want to use to minimize the augmented energy function"
      ],
      "metadata": {
        "id": "PaKyQ8vchaQ5"
      }
    },
    {
      "cell_type": "code",
      "source": [
        "from training.sgd import EquilibriumProp\n",
        "#Define the gradient estimator: centered equilibrium propagation (CEP)\n",
        "params = energy_fn.params()\n",
        "layers = energy_fn.layers()\n",
        "nudging = 0.15\n",
        "\n",
        "\n",
        "estimator = EquilibriumProp(params, layers, augmented_fn, cost_fn, energy_minimizer_perturbed)\n",
        "estimator.nudging = nudging\n",
        "estimator.variant = 'centered'"
      ],
      "metadata": {
        "id": "oajvEVQtq1k0"
      },
      "execution_count": 14,
      "outputs": []
    },
    {
      "cell_type": "markdown",
      "source": [
        "Next we build our Optimizer, is a class of convience that implements a \"custom\" SGD Optimizer. The main idea is that it makes it easier to match parameters to learning rates."
      ],
      "metadata": {
        "id": "aaOV0PZ2q_Pk"
      }
    },
    {
      "cell_type": "code",
      "source": [
        "from training.monitor import Optimizer\n",
        "# Define Model Params\n",
        "learning_rates_weights = [0.02, 0.02, 0.2, 0.2]\n",
        "learning_rates_biases = [0.02, 0.02, 0.02, 0.02]\n",
        "momentum = 0.9\n",
        "weight_decay = 3 * 1e-4\n",
        "\n",
        "# Build the optimizer (SGD)\n",
        "learning_rates = learning_rates_biases + learning_rates_weights\n",
        "optimizer = Optimizer(energy_fn, cost_fn, learning_rates, momentum, weight_decay)"
      ],
      "metadata": {
        "id": "DJou6Hjtgubc"
      },
      "execution_count": 15,
      "outputs": []
    },
    {
      "cell_type": "markdown",
      "source": [
        "At this point we have our energy function, cost function, dataloaders, gradient estimators, optimizers, and energy minimizers. We're finally ready to do some training!\n",
        "\n",
        "Monitor, Trainer, and Evaluator are classes you can use to organize your training.\n",
        "\n",
        "From a high level, Trainer trains the network on data, and the Evaluator evaluates after each training epoch. The Monitor is a class that calls each once an epoch, and tracks various training statistics. I recommend quickly reading training.monitor and training.epoch, they're pretty straightfoward and it shouldn't take longer than a minute or two."
      ],
      "metadata": {
        "id": "o31zBqDfoJ04"
      }
    },
    {
      "cell_type": "code",
      "source": [
        "from training.monitor import Monitor\n",
        "from training.epoch import Trainer, Evaluator\n",
        "\n",
        "#Define Model Params\n",
        "num_epochs = 2\n",
        "\n",
        "trainer = Trainer(network, cost_fn, training_loader, estimator, optimizer, energy_minimizer_inference)\n",
        "evaluator = Evaluator(network, cost_fn, test_loader, energy_minimizer_inference)\n",
        "\n",
        "# Define the scheduler for the learning rates\n",
        "scheduler = torch.optim.lr_scheduler.ExponentialLR(optimizer, gamma=0.99)\n",
        "\n",
        "# Define the path to save results to, and the monitor to perform the run\n",
        "path = os.getcwd() + '/Example'\n",
        "monitor = Monitor(energy_fn, cost_fn, trainer, scheduler, evaluator, path)\n"
      ],
      "metadata": {
        "id": "NyF892E3oN5j"
      },
      "execution_count": 17,
      "outputs": []
    },
    {
      "cell_type": "markdown",
      "source": [
        "Now let's finally train our network!"
      ],
      "metadata": {
        "id": "LZyJ4Tv_lLq9"
      }
    },
    {
      "cell_type": "code",
      "source": [
        "\n",
        "# Print the characteristics of the run\n",
        "print('Dataset: {} -- batch_size={}'.format(dataset, batch_size))\n",
        "print('Network: ', energy_fn)\n",
        "print('Cost function: ', cost_fn)\n",
        "print('Energy minimizer during inference: ', energy_minimizer_inference)\n",
        "print('Energy minimizer during training: ', energy_minimizer_perturbed)\n",
        "print('Gradient estimator: ', estimator)\n",
        "print('Parameter optimizer: ', optimizer)\n",
        "print('Number of epochs = {}'.format(num_epochs))\n",
        "print('Path = {}'.format(path))\n",
        "print('Device = {}'.format(device))\n",
        "print()\n",
        "\n",
        "# Launch the experiment\n",
        "monitor.run(num_epochs, verbose=True)"
      ],
      "metadata": {
        "colab": {
          "base_uri": "https://localhost:8080/"
        },
        "id": "xcCOYRmUg1hA",
        "outputId": "f1703943-f767-4363-e6ef-de91d3439dea"
      },
      "execution_count": 19,
      "outputs": [
        {
          "output_type": "stream",
          "name": "stdout",
          "text": [
            "Dataset: MNIST -- batch_size=512\n",
            "Network:  ConvHopfieldEnergy28 -- size=[1, 32, 64, 10], activation=hard-sigmoid, pooling=conv_max_pool, gains=[0.6, 0.6, 1.5]\n",
            "Cost function:  Squared Error (MSE)\n",
            "Energy minimizer during inference:  Fixed point minimizer -- mode=asynchronous, num_iterations=30\n",
            "Energy minimizer during training:  Fixed point minimizer -- mode=asynchronous, num_iterations=5\n",
            "Gradient estimator:  Equilibrium propagation -- mode=centered, nudging=0.15, formula=standard\n",
            "Parameter optimizer:  SGD -- initial learning rates = [0.02, 0.02, 0.02, 0.02, 0.02, 0.02, 0.2, 0.2], momentum=0.9, weight_decay=0.00030000000000000003\n",
            "Number of epochs = 2\n",
            "Path = /content/energy-based-learning/Example\n",
            "Device = cuda\n",
            "\n",
            "Epoch 1\n",
            "TRAIN -- Example 60000/60000, Energy = -198.08, Cost = 0.21523, Error = 20.435%, Top5Error = 4.632%\n",
            "TEST  -- Example 10000/10000, Energy = -231.86, Cost = 0.10432, Error = 5.700%, Top5Error = 0.310%\n",
            "Duration = 0 hours 1 min 3 sec \n",
            "\n",
            "Epoch 2\n",
            "TRAIN -- Example 60000/60000, Energy = -220.21, Cost = 0.08903, Error = 5.257%, Top5Error = 0.272%\n",
            "TEST  -- Example 10000/10000, Energy = -209.24, Cost = 0.07322, Error = 3.930%, Top5Error = 0.220%\n",
            "Duration = 0 hours 1 min 40 sec \n",
            "\n"
          ]
        }
      ]
    },
    {
      "cell_type": "markdown",
      "source": [
        "And let's see how well it does on a few examples!"
      ],
      "metadata": {
        "id": "D1Rf7uVjlQA4"
      }
    },
    {
      "cell_type": "code",
      "source": [
        "visualize_and_infer(network, energy_minimizer_inference, test_loader)"
      ],
      "metadata": {
        "colab": {
          "base_uri": "https://localhost:8080/",
          "height": 237
        },
        "id": "GMV6d-99WStI",
        "outputId": "b7911ee1-5e4e-4ecc-ff3e-152848fe62b2"
      },
      "execution_count": 20,
      "outputs": [
        {
          "output_type": "display_data",
          "data": {
            "text/plain": [
              "<Figure size 500x300 with 1 Axes>"
            ],
            "image/png": "[encoded data removed]"
          },
          "metadata": {}
        }
      ]
    },
    {
      "cell_type": "markdown",
      "source": [
        "At this point you should be able to follow along with any of the paper scripts. I recomment looking at the DRN one, follow along, and start diving into the code at places you don't understand. Try to keep in mind that the \"meat and potatoes\" of the functionality tends to be wrapped in a class or two that standardize how you can interact with everything."
      ],
      "metadata": {
        "id": "wAC9YnKNlmN3"
      }
    }
  ]
}